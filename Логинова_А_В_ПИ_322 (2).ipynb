{
  "nbformat": 4,
  "nbformat_minor": 0,
  "metadata": {
    "colab": {
      "name": "Логинова А.В. ПИ-322.ipynb",
      "provenance": []
    },
    "kernelspec": {
      "name": "python3",
      "display_name": "Python 3"
    },
    "language_info": {
      "name": "python"
    }
  },
  "cells": [
    {
      "cell_type": "markdown",
      "source": [
        "# Таблица греческих букв"
      ],
      "metadata": {
        "id": "EmjXY9RcYCkE"
      }
    },
    {
      "cell_type": "markdown",
      "source": [
        "### Таблица греческих букв оформленная средством MarkDown"
      ],
      "metadata": {
        "id": "eLKGgfjXZfo1"
      }
    },
    {
      "cell_type": "markdown",
      "source": [
        "|Номер|Заглавная|Строчная|Название|\n",
        "|:---:|:---:|:---:|:---:|\n",
        "|1|Α|$\\alpha$|альфа|\n",
        "|2|Β|$\\beta$|бета|\n",
        "|3|$\\Gamma$|$\\gamma$|гамма|\n",
        "|4|$\\Delta$|$\\delta$|дельта|\n",
        "|5|Ε|$\\epsilon$|эпсилон|\n",
        "|6|Ζ|$\\zeta$|дзета|\n",
        "|7|Η|$\\eta$|эта|\n",
        "|8|$\\Theta$|$\\theta$|тета|\n",
        "|9|Ι|$\\iota$|йота|\n",
        "|10|Κ|$\\kappa$|каппа|\n",
        "|11|$\\Lambda$|$\\lambda$|лямбда|\n",
        "|12|Μ|$\\mu$|мю|\n",
        "|13|Ν|$\\nu$|ню|\n",
        "|14|$\\Xi$|$\\xi$|кси|\n",
        "|15|Ο|ο|омикрон|\n",
        "|16|$\\Pi$|$\\pi$|пи|\n",
        "|17|Ρ|$\\rho$|ро|\n",
        "|18|$\\Sigma$|$\\sigma$|сигма|\n",
        "|19|Τ|$\\tau$|тау|\n",
        "|20|$\\Upsilon$|$\\upsilon$|ипсилон|\n",
        "|21|$\\Phi$|$\\phi$|фи|\n",
        "|22|Χ|$\\chi$|хи|\n",
        "|23|$\\Psi$|$\\psi$|пси|\n",
        "|24|$\\Omega$|$\\omega$|омега|"
      ],
      "metadata": {
        "id": "bHVz4st8Yvr8"
      }
    },
    {
      "cell_type": "markdown",
      "source": [
        "### Таблица греческих букв оформленная средством ТеХ"
      ],
      "metadata": {
        "id": "7MG0nIQnag1f"
      }
    },
    {
      "cell_type": "markdown",
      "source": [
        "\n",
        "\\begin{array}{ccc}\n",
        "\\text{Номер}&\\text{Заглавная}&\\text{Строчная}&\\text{Название}\\\\\n",
        "\\text {1}&\\text{Α}&\\alpha&\\text{альфа}\\\\\n",
        "\\text {2}&\\text{Β}&\\beta&\\text{бета}\\\\\n",
        "\\text {3}&\\Gamma&\\gamma&\\text{гамма}\\\\\n",
        "\\text {4}&\\Delta&\\delta&\\text{дельта}\\\\\n",
        "\\text {5}&\\text{Ε}&\\epsilon&\\text{эпсилон}\\\\\n",
        "\\text {6}&\\text{Ζ}&\\zeta&\\text{дзета}\\\\\n",
        "\\text {7}&\\text{Η}&\\eta&\\text{эта}\\\\\n",
        "\\text {8}&\\Theta&\\theta&\\text{тета}\\\\\n",
        "\\text {9}&\\text{Ι}&\\iota&\\text{йота}\\\\\n",
        "\\text {10}&\\text{Κ}&\\kappa&\\text{каппа}\\\\\n",
        "\\text {11}&\\Lambda&\\lambda&\\text{лямбда}\\\\\n",
        "\\text {12}&\\text{Μ}&\\mu&\\text{мю}\\\\\n",
        "\\text {13}&\\text{Ν}&\\nu&\\text{ню}\\\\\n",
        "\\text {14}&\\Xi&\\xi&\\text{кси}\\\\\n",
        "\\text {15}&\\text{Ο}&\\text{ο}&\\text{омикрон}\\\\\n",
        "\\text {16}&\\Pi&\\pi&\\text{пи}\\\\\n",
        "\\text {17}&\\text{Ρ}&\\rho&\\text{ро}\\\\\n",
        "\\text {18}&\\Sigma&\\sigma&\\text{сигма}\\\\\n",
        "\\text {19}&\\text{Τ}&\\tau&\\text{тау}\\\\\n",
        "\\text {20}&\\Upsilon&\\upsilon&\\text{ипсилон}\\\\\n",
        "\\text {21}&\\Phi&\\phi&\\text{фи}\\\\\n",
        "\\text {22}&\\text{Χ}&\\chi&\\text{хи}\\\\\n",
        "\\text {23}&\\Psi&\\psi&\\text{пси}\\\\\n",
        "\\text {24}&\\Omega&\\omega&\\text{омега}\\\\\n",
        "\\end{array}"
      ],
      "metadata": {
        "id": "tn_BMQIqaY7E"
      }
    },
    {
      "cell_type": "markdown",
      "source": [
        "Формула в отдельной строке $${\\displaystyle f(x)={\\frac {1}{\\sigma {\\sqrt {2\\pi }}}}e {-{\\frac {1}{2}} \\left({\\frac {x-\\mu }{\\sigma }}\\right) {2}}}$$\n",
        "Формула в тексте: ${\\displaystyle f(x)={\\frac {1}{\\sigma {\\sqrt {2\\pi }}}}e {-{\\frac {1}{2}}\\left({\\frac {x-\\mu }{\\sigma }}\\right) {2}}}$"
      ],
      "metadata": {
        "id": "vfOT0nimpV8E"
      }
    }
  ]
}